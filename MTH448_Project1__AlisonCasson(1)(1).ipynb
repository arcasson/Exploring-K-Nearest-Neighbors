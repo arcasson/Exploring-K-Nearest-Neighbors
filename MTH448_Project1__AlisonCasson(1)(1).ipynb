{
 "cells": [
  {
   "cell_type": "markdown",
   "id": "e32c7638-c82e-4a5a-90e9-8a8dff8d7f9c",
   "metadata": {},
   "source": [
    "# Won’t you be my (K-Nearest) Neighbor\n",
    "\n",
    "Alison Casson\\\n",
    "MTH 448: Project 1"
   ]
  },
  {
   "cell_type": "markdown",
   "id": "10cfb4dc-d7b9-422a-84df-65cc31c295b9",
   "metadata": {},
   "source": [
    "## <h1><center>What is KNN?</center></h1>\n",
    "The K Nearest Neighbors (KNN) Algorithm is a powerful, non-parametric, supervised learning method used for both classification and regression. It is a simple way to classify points based on proximity. \n",
    "KNN is also known as a “lazy learner” algorithm because it does not learn from training data. Instead, it stores the training datasets and makes decisions only at the time of classification.\n",
    "In classification, KNN predicts a label for a given target point by identifying its k nearest neighbors and assigning the most common label among them. It is used for discrete values. In regression, KNN predicts a continuous value by averaging the values of its k nearest neighbors. It is used for continuous values. \n",
    "\n",
    "The KNN algorithm is widely used in various applications including finance, to help assess the risk of a loan, and healthcare, to predict the risk of health problems. It can also be used to filter spam emails, recognize patterns, and predict missing values in datasets. \n",
    "\n",
    "\n",
    "### How does the KNN Algorithm work?\n",
    "The algorithm begins with `k`, a value that defines the number of nearby points (neighbors) that will be considered to make a classification. \n",
    "\n",
    "The next step of the algorithm is to calculate the distances between the target point and all the points in the dataset. The k closest points are identified using the chosen distance metric. \n",
    "For classification, the k nearest neighbors are assigned the most common label among themselves. For regression, the average of the k neighbors is assigned. \n",
    "This process is repeated for each target point.  \n",
    "\n",
    "\n",
    "### Computing k\n",
    "`k` is the number of nearby points being checked to predict a classification. The choice of `k` affects KNN’s performance. The size of `k` is dependent on the characteristics of the dataset.\n",
    "\n",
    "`k` can be determined by using cross validation where the data is split into k subsets. Some subsets get trained on the model while the remaining subsets get tested, resulting in a value of `k` that has the highest average validation accuracy. \n",
    "\n",
    "The elbow method is another way to determine `k`. The accuracy for different values of k is plotted. As `k` increases, the error decreases (accuracy increases) until a certain point where the error rate decreases at a slower pace. That point, where the accuracy stabilizes, is considered the best ‘k’. \n",
    "\n",
    "\n",
    "### Distance Metrics\n",
    "When implementing the KNN algorithm, there are many different ways of calculating the distance between the target point and the points from the dataset. Distance metrics used in the KNN algorithm include Euclidean distance, Manhattan distance, Minkowski distance, and Hamming distance. Different distance metrics impact classification accuracy, and in some cases, a weighted KNN approach can improve performance by assigning higher importance to closer neighbors.\n",
    "\n",
    "\n",
    "##### Euclidean Distance\n",
    "This distance metric measures a straight line between two points on a plane, the target point the other point being measured. It is the most commonly used distance metric and is limited to real-valued vectors. The equation is shown below:\n",
    "\n",
    "$$\n",
    "d(x,y) = \\sqrt{\\sum_{i=1}^{n} (y_i - x_i)^2}\n",
    "$$\n",
    "\n",
    "##### Manhattan Distance\n",
    "This distance metric measures the distance between real vectors using the sum of their absolute difference. It can be visualized as moving along a graph where the distance is traveled using only horizontal and vertical movements, similar to a cab driver on the streets of Manhattan. The equation is shown below:\n",
    "\n",
    "$$\n",
    "d(x,y) = \\sum_{i=1}^{n} |x_i - y_i|\n",
    "$$\n",
    "\n",
    "##### Minkowski Distance\n",
    "This distance metric is the generalization of Euclidean and Manhattan distance metrics. It utilizes the parameter `p` for the use of other distance metrics. When looking for the Euclidean distance, p=2. When looking for the Manhattan distance, p=1. The equation is shown below. \n",
    "\n",
    "$$\n",
    "d(x,y) = \\left( \\sum_{i=1}^{n} |x_i - y_i|^p \\right)^{\\frac{1}{p}}\n",
    "$$\n",
    "\n",
    "\n",
    "##### Hamming Distance\n",
    "This distance metric is used for categorical data and measures mismatches. It uses Boolean logic or string vectors to identify points that do not match the target point. It is also known as the overlap metric. The equation is shown below: \n",
    "\n",
    "$$\n",
    "D_H = \\sum_{i=1}^{k} |x_i - i_y|, \\quad \\text{where} \\quad\n",
    "D =\n",
    "\\begin{cases}\n",
    "0, & \\text{if } x = y \\\\\n",
    "1, & \\text{if } x \\neq y\n",
    "\\end{cases}\n",
    "$$\n",
    "\n",
    "### Cons of using the KNN algorithm\n",
    "While the KNN algorithm is easy to implement and does not require training it has its drawbacks. It is very slow with large datasets. It already requires computing distances to all points, and as datasets grow, it takes up more memory and data storage.\n",
    "\n",
    "## The Project\n",
    "The dataset used in this project is the MNIST Database. It is a well-known dataset used for training machine learning models on handwritten digit classification. It contains 60,000 images of handwritten digits (0-9), each represented as a 28×28 pixel array, with an additional 10,000 test images. \n",
    "Each image is flattened into a 784-dimensional vector, making it ideal for applying KNN. However, due to the high-dimensional nature of the data, it presents challenges such as increased computational cost and potential inefficiencies in distance calculations.\n",
    "\n",
    "The goal of this project is to implement a KNN algorithm to analyze and explore its behavior using the MNIST data. "
   ]
  },
  {
   "cell_type": "markdown",
   "id": "fdb2a1fb-9603-4cf3-bbfb-29add0727620",
   "metadata": {},
   "source": [
    "### <h1><center>Methodology</center></h1>\n",
    "\n",
    "To create the the KNN algorithm, there are steps that need to be taken to ensure the intended output.\n",
    "1. Deciding on a distance metric - this is how the distance to the nearest neighbors will be calculated. \n",
    "2. Importing the data - data is loaded in as an array to allow for slicing\n",
    "3. Slicing the data - seperating data into training and testing data to train the algorithm\n",
    "\n",
    "Once the data is split into training and testing data, the training data can then be used to create and be implemented in the KNN algorithm."
   ]
  },
  {
   "cell_type": "markdown",
   "id": "cf5f584b-5a52-4be5-9634-6eabb6c237f8",
   "metadata": {},
   "source": [
    "#### Imported Libraries"
   ]
  },
  {
   "cell_type": "code",
   "execution_count": 152,
   "id": "8a0fe791-228a-4a18-92ae-c8ea7f70ec02",
   "metadata": {},
   "outputs": [],
   "source": [
    "import numpy as np\n",
    "import matplotlib.pyplot as plt\n",
    "from scipy import stats\n",
    "import statistics as st"
   ]
  },
  {
   "cell_type": "markdown",
   "id": "791caf5d-b47f-4f56-9e55-99a4e72f393c",
   "metadata": {},
   "source": [
    "#### Distance Metrics"
   ]
  },
  {
   "cell_type": "code",
   "execution_count": 268,
   "id": "b800b005-f218-4298-83b9-4ca7f42b3995",
   "metadata": {},
   "outputs": [],
   "source": [
    "def eucledianDistance(a,b):                                                # defines eucledianDistance as a function taking `a` and `b` as points\n",
    "    eD = np.sqrt(np.sum((a - b)**2, axis=1))                               # equation for eucledian distance by row\n",
    "    return eD                                                              # returns the euclidian distance between two points\n",
    "    \n",
    "def manhattanDistance(a,b):                                                # defines manhattenDistance as a function taking `a` and `b` as points\n",
    "    manD = np.sum(np.abs(a-b), axis=1)                                     # equation for manhattan distance\n",
    "    return manD                                                            # retuns the manhatten distance between two points\n",
    "\n",
    "def minkowskiDistance(a,b,p):                                              # defines minkowskiDistance as a function taking `a`, `b`, and `p` as parameters where `a` and `b` are points\n",
    "    minkD = np.power(np.sum(np.abs(a - b)**p, axis= 1), 1/p)               # equation for minkowski distance\n",
    "\n"
   ]
  },
  {
   "cell_type": "markdown",
   "id": "e84516e1-59ed-42cc-a769-b8022fc5ce50",
   "metadata": {},
   "source": [
    "#### Training Data"
   ]
  },
  {
   "cell_type": "code",
   "execution_count": 156,
   "id": "058c4ede-ba42-44b3-b3d7-01aecd203c48",
   "metadata": {
    "scrolled": true
   },
   "outputs": [],
   "source": [
    "data = np.loadtxt(\"mnist_train.csv\", delimiter = \",\",dtype=int)            # loads the csv file and make data into an array\n",
    "\n",
    "images = data[:,1:]                                                        # selects all rows except for the first column of the imported dataset\n",
    "\n",
    "training_data = images[:40000]                                             # selects the first 40,0000 rows from `images` and defines it as training data\n",
    "\n",
    "testing_data = images[40000:]                                              # selects all rows after 40,000 from `images` and defines it as testing data\n",
    "\n",
    "labels = data[:,0]                                                         # selects all rows in the first column\n",
    "\n",
    "training_labels = labels[:40000]                                           # denotes the first column of the the first 40,000 rows as training labels\n",
    "\n",
    "testing_labels = labels[40000:]                                            # denotes all rows after 40,0000 from `labels` as testing data"
   ]
  },
  {
   "cell_type": "markdown",
   "id": "d6267b77-19f5-4a2a-8172-a4c1e05de6e0",
   "metadata": {},
   "source": [
    "#### KNN Algorithm"
   ]
  },
  {
   "cell_type": "code",
   "execution_count": 157,
   "id": "c2b1c869-2c68-4ac9-adc0-263fad42c482",
   "metadata": {},
   "outputs": [],
   "source": [
    "def KNN(training_data, training_labels, point, k):                         # define KNN as a function taking \"training_data\", \"training_labels\", (target) \"point\", and \"k\" as parameters\n",
    "    \n",
    "    distance = eucledianDistance(training_data, point)                     # finds the distance between each point in the training data and the target point\n",
    "    distanceK = np.argsort(distance)[:k]                                   # sorts all distances in ascending order to k (the number of nearest neighbors)\n",
    "    label = training_labels[distanceK]                                     # retrieves the labels of the k nearest neighbors by indexing training_labels with distanceK.\n",
    "    predicted_label = st.mode(label)                                       # Finds the most frequently occuring label\n",
    "    \n",
    "\n",
    "    return predicted_label, distanceK                                      # returns the predicted label and a list of nearest neighbors"
   ]
  },
  {
   "cell_type": "markdown",
   "id": "bd23b9cc-aae1-474b-bbef-0e9dd8fd86ba",
   "metadata": {},
   "source": [
    "#### Testing\n",
    "\n",
    "To make sure the algorithm works, it is run with different target `point` and `k`. "
   ]
  },
  {
   "cell_type": "markdown",
   "id": "f4725ae1-1883-4dba-93f6-48d452f59df7",
   "metadata": {},
   "source": [
    "##### `testing_data`= 784 and `k`=5"
   ]
  },
  {
   "cell_type": "code",
   "execution_count": 158,
   "id": "0e0fcdc7-b3c9-449a-96c4-ddfbefb8b787",
   "metadata": {},
   "outputs": [
    {
     "name": "stdout",
     "output_type": "stream",
     "text": [
      "Predicted Label: 7\n",
      "Nearest Neighbors: [14710 35978 37556  7906 13566]\n"
     ]
    },
    {
     "data": {
      "text/plain": [
       "7"
      ]
     },
     "execution_count": 158,
     "metadata": {},
     "output_type": "execute_result"
    }
   ],
   "source": [
    "predicted_label, neighbors = KNN(training_data, training_labels, testing_data[784], 5)      # the function `KNN` is called with 784 points in testing_data and 5 nearest neighbors that will retun a predicted label and a list of nearest neighbors\n",
    "print(\"Predicted Label:\", predicted_label)                                                  # prints the prediceted label                                            \n",
    "print(\"Nearest Neighbors:\", neighbors)                                                      # prints the list of nearest neighbors\n",
    "testing_labels[784]                                                                         # prints the actual label"
   ]
  },
  {
   "cell_type": "markdown",
   "id": "65d377ad-d4b6-49a9-8e30-9ff3ac42f25c",
   "metadata": {},
   "source": [
    "##### `testing_data`=19999 and `k`=10"
   ]
  },
  {
   "cell_type": "code",
   "execution_count": 162,
   "id": "db2adcbb-8102-4f09-9786-d66271432ee6",
   "metadata": {},
   "outputs": [
    {
     "name": "stdout",
     "output_type": "stream",
     "text": [
      "Predicted Label: 8\n",
      "Nearest Neighbors: [24241  1013 31399 30521 20269 12235 20157 17393 29965 14611]\n"
     ]
    },
    {
     "data": {
      "text/plain": [
       "8"
      ]
     },
     "execution_count": 162,
     "metadata": {},
     "output_type": "execute_result"
    }
   ],
   "source": [
    "predicted_label, neighbors = KNN(training_data, training_labels, testing_data[19999], 10)    # the function `KNN` is called with 19999 points in testing_data and 10 nearest neighbors that will retun a predicted label and a list of nearest neighbors\n",
    "print(\"Predicted Label:\", predicted_label)                                                   # prints the prediceted label                                            \n",
    "print(\"Nearest Neighbors:\", neighbors)                                                       # prints the list of nearest neighbors\n",
    "testing_labels[19999]                                                                        # prints the actual label"
   ]
  },
  {
   "cell_type": "markdown",
   "id": "f1c67336-810c-480c-b120-fa74e31436db",
   "metadata": {},
   "source": [
    "##### `testing_data`=50000 and `k`=28"
   ]
  },
  {
   "cell_type": "code",
   "execution_count": 164,
   "id": "1041cb0d-6ce6-40ae-954a-5f31217eea4f",
   "metadata": {},
   "outputs": [
    {
     "name": "stdout",
     "output_type": "stream",
     "text": [
      "Predicted Label: 3\n",
      "Nearest Neighbors: [ 1068 25174 39452  7336 16078 20166  2088 10328 18285  2021 30002 12838\n",
      " 26324 33407  8230 14166 35562  5270 18287 18785 38804 21966 25296 19014\n",
      " 22322 38495 15760  1836]\n"
     ]
    },
    {
     "data": {
      "text/plain": [
       "3"
      ]
     },
     "execution_count": 164,
     "metadata": {},
     "output_type": "execute_result"
    }
   ],
   "source": [
    "predicted_label, neighbors = KNN(training_data, training_labels, testing_data[5000], 28)     # the function `KNN` is called with 5000 points in testing_data and 28 nearest neighbors that will retun a predicted label and a list of nearest neighbors\n",
    "print(\"Predicted Label:\", predicted_label)                                                   # prints the prediceted label                                            \n",
    "print(\"Nearest Neighbors:\", neighbors)                                                       # prints the list of nearest neighbors\n",
    "testing_labels[5000]                                                                         # prints the actual label"
   ]
  },
  {
   "cell_type": "markdown",
   "id": "d495b037-10cc-484f-beed-661726e499ff",
   "metadata": {},
   "source": [
    "## <h1><center>Algorithm Exploration</center></h1>\n",
    "\n",
    "Now that we know the algorithm works, we can explore how changing different factors like changing the size of the data set, changing the k-value, and changing the distance metrics affect the accuracy and results of the model. "
   ]
  },
  {
   "cell_type": "markdown",
   "id": "522ce28a-61ba-43f9-beb0-ef684fdde6e7",
   "metadata": {},
   "source": [
    "### Accuracy Check"
   ]
  },
  {
   "cell_type": "markdown",
   "id": "4c0f5568-963e-4645-a139-a7427430c53e",
   "metadata": {},
   "source": [
    "#### Confusion Matrix\n",
    "\n",
    "Confusion Matricies are used in machine learning to test a models performance by comparing predicted outcomes to actual results. Diagonal elements show correctly predicted samples. \n",
    "\n",
    "After failing to create my own confusion matrix, I turned to sklearn.metrics. The code below takes two lists: \n",
    "1. `alabel` - a list of the correct labels from the testing data\n",
    "2. `plabel` - a list of the predicted labels based on the testing data and the value of k\n",
    "\n",
    "This data is then put into a confusion matrix imported from sklearn.metrics"
   ]
  },
  {
   "cell_type": "code",
   "execution_count": 187,
   "id": "400d13c9-7d1f-4a10-bfd5-e2f591b15f18",
   "metadata": {},
   "outputs": [
    {
     "data": {
      "text/plain": [
       "array([[20,  0,  0,  0,  0,  0,  0,  0,  0,  0],\n",
       "       [ 0, 23,  0,  0,  0,  0,  0,  0,  0,  0],\n",
       "       [ 0,  2, 21,  0,  0,  0,  0,  0,  0,  0],\n",
       "       [ 0,  0,  0, 26,  0,  1,  0,  0,  0,  0],\n",
       "       [ 0,  2,  0,  0, 11,  0,  0,  0,  0,  1],\n",
       "       [ 0,  0,  0,  0,  0, 12,  1,  0,  0,  0],\n",
       "       [ 0,  0,  0,  0,  0,  0, 11,  0,  0,  0],\n",
       "       [ 0,  1,  0,  0,  0,  0,  0, 22,  0,  0],\n",
       "       [ 0,  0,  0,  0,  0,  0,  0,  1, 26,  0],\n",
       "       [ 0,  0,  0,  0,  0,  0,  0,  0,  0, 19]], dtype=int64)"
      ]
     },
     "execution_count": 187,
     "metadata": {},
     "output_type": "execute_result"
    }
   ],
   "source": [
    "from sklearn.metrics import confusion_matrix                                                     # imports the confusion_matrix function from sklearns.metrics \n",
    "\n",
    "alabel = []                                                                                      # creates an empty list of actual labels called `alabel`\n",
    "plabel = []                                                                                      # creates an empty list of predicted labels called `plabel`\n",
    "\n",
    "i = 0                                                                                            # sets `i` equal to 0\n",
    "k = 1                                                                                            # sets `k` equal to 1\n",
    "\n",
    "for i in range (1,19999,100):                                                                    # for `i` from 1 - 19,9999 in steps of 100\n",
    "    \n",
    "    predicted_label, neighbors = KNN(training_data, training_labels, testing_data[i], k)         # implement KNN algorithm for training_data size i and k nearest neighbors\n",
    "    \n",
    "    alabel.append(testing_labels[i])                                                             # append the actual testing label to the `alabel` list\n",
    "    plabel.append(predicted_label)                                                               # append the predicted label to the list `plabel`\n",
    "\n",
    "    i+=1                                                                                         # increment `i` by 1\n",
    "    k+=1                                                                                         # increment `k` by 1\n",
    "\n",
    "confusion_matrix(alabel, plabel)                                                                 # create the confusion matrix"
   ]
  },
  {
   "cell_type": "markdown",
   "id": "3830b5de-7084-44a7-afed-c293a25bb3cd",
   "metadata": {},
   "source": [
    "Looking at the confusion matrix above, we can see that as the size of the data set and the nearest neighbors increases, the model maintains an accuracy of 96.7% (199 iterations, 6 incorrect predictions)\n",
    "THough, this is with both the data set and the k-value increase. \n",
    "\n",
    "What happens when one of these values is constant while the other changes? Now, we are going to see how these changes will affect the accuracy of the model. \n",
    "\n",
    "First, we will keep the k-value the same and see how changing the size of the data set affects the accuracy of the model."
   ]
  },
  {
   "cell_type": "markdown",
   "id": "1efe0664-4187-4f1f-8e58-12824996cd1a",
   "metadata": {},
   "source": [
    "##### `testing_data` = 200"
   ]
  },
  {
   "cell_type": "code",
   "execution_count": 190,
   "id": "1d887dca-de5a-4853-9cb8-23aa69adf370",
   "metadata": {},
   "outputs": [
    {
     "name": "stdout",
     "output_type": "stream",
     "text": [
      "Index: 1 True label: 7 Predicted: 7\n",
      "Index: 51 True label: 3 Predicted: 3\n",
      "Index: 101 True label: 1 Predicted: 1\n",
      "Index: 151 True label: 2 Predicted: 2\n"
     ]
    },
    {
     "data": {
      "text/plain": [
       "array([[1, 0, 0, 0],\n",
       "       [0, 1, 0, 0],\n",
       "       [0, 0, 1, 0],\n",
       "       [0, 0, 0, 1]], dtype=int64)"
      ]
     },
     "execution_count": 190,
     "metadata": {},
     "output_type": "execute_result"
    }
   ],
   "source": [
    "from sklearn.metrics import confusion_matrix                                                     # imports the confusion_matrix function from sklearns.metrics \n",
    "\n",
    "alabel = []                                                                                      # creates an empty list of actual labels called `alabel`\n",
    "plabel = []                                                                                      # creates an empty list of predicted labels called `plabel`\n",
    "\n",
    "i = 0                                                                                            # sets `i` equal to 0\n",
    "    \n",
    "for i in range (1,200,50):                                                                       # for `i` from 1 - 200 in steps of 50\n",
    "    predicted_label, neighbors = KNN(training_data, training_labels, testing_data[i], 7)         # implement KNN algorithm for training_data size 200 and 7 nearest neighbors\n",
    "    \n",
    "    alabel.append(testing_labels[i])                                                             # append the actual testing label to the `alabel` list\n",
    "    plabel.append(predicted_label)                                                               # append the predicted label to the list `plabel`\n",
    "\n",
    "    i+=1                                                                                         # increment `i` by 1\n",
    "\n",
    "confusion_matrix(alabel, plabel)                                                                 # create the confusion matrix"
   ]
  },
  {
   "cell_type": "markdown",
   "id": "0144566a-8d0c-423b-a198-5ee27a4caa54",
   "metadata": {},
   "source": [
    "##### `testing_data` = 2,000"
   ]
  },
  {
   "cell_type": "code",
   "execution_count": 194,
   "id": "a9db7fba-14fe-4206-9762-86d81b164393",
   "metadata": {},
   "outputs": [
    {
     "data": {
      "text/plain": [
       "array([[5, 0, 0, 0, 0, 0, 0, 0, 0, 0],\n",
       "       [0, 4, 0, 0, 0, 0, 0, 0, 0, 0],\n",
       "       [0, 0, 6, 0, 0, 0, 0, 0, 0, 0],\n",
       "       [0, 0, 0, 4, 0, 0, 0, 0, 0, 0],\n",
       "       [0, 0, 0, 0, 1, 0, 0, 0, 0, 0],\n",
       "       [0, 0, 0, 0, 0, 2, 0, 0, 0, 0],\n",
       "       [0, 0, 0, 0, 0, 0, 5, 0, 0, 0],\n",
       "       [0, 0, 0, 0, 0, 0, 0, 7, 0, 0],\n",
       "       [0, 0, 0, 0, 0, 0, 0, 0, 3, 0],\n",
       "       [0, 0, 0, 0, 0, 0, 0, 0, 0, 3]], dtype=int64)"
      ]
     },
     "execution_count": 194,
     "metadata": {},
     "output_type": "execute_result"
    }
   ],
   "source": [
    "from sklearn.metrics import confusion_matrix                                                     # imports the confusion_matrix function from sklearns.metrics \n",
    "\n",
    "alabel = []                                                                                      # creates an empty list of actual labels called `alabel`\n",
    "plabel = []                                                                                      # creates an empty list of predicted labels called `plabel`\n",
    "\n",
    "i = 0                                                                                            # sets `i` equal to 0\n",
    "    \n",
    "for i in range (1,2000,50):                                                                      # for `i` from 1 - 2000 in steps of 50\n",
    "    predicted_label, neighbors = KNN(training_data, training_labels, testing_data[i], 7)         # implement KNN algorithm for training_data size 200 and 7 nearest neighbors\n",
    "    \n",
    "    alabel.append(testing_labels[i])                                                             # append the actual testing label to the `alabel` list\n",
    "    plabel.append(predicted_label)                                                               # append the predicted label to the list `plabel`\n",
    "\n",
    "    i+=1                                                                                         # increment `i` by 1\n",
    "\n",
    "confusion_matrix(alabel, plabel)                                                                 # create the confusion matrix"
   ]
  },
  {
   "cell_type": "markdown",
   "id": "450f76ce-4cd5-4c32-8c04-64c7374cbce0",
   "metadata": {},
   "source": [
    "##### `testing_data` = 10,500"
   ]
  },
  {
   "cell_type": "code",
   "execution_count": 196,
   "id": "85fbf0d8-ae5e-4caf-a299-1f0d3f1fd8aa",
   "metadata": {},
   "outputs": [
    {
     "data": {
      "text/plain": [
       "array([[19,  0,  0,  0,  0,  0,  0,  0,  0,  0],\n",
       "       [ 0, 26,  0,  0,  0,  0,  0,  0,  0,  0],\n",
       "       [ 0,  1, 24,  0,  0,  0,  0,  0,  0,  0],\n",
       "       [ 0,  0,  0, 20,  0,  1,  0,  0,  0,  0],\n",
       "       [ 0,  0,  0,  0, 12,  0,  0,  0,  0,  1],\n",
       "       [ 1,  0,  0,  0,  0, 13,  1,  0,  0,  0],\n",
       "       [ 0,  0,  0,  0,  0,  0, 17,  0,  0,  0],\n",
       "       [ 0,  1,  0,  0,  0,  0,  0, 30,  0,  0],\n",
       "       [ 0,  1,  0,  0,  0,  0,  0,  0, 22,  0],\n",
       "       [ 0,  0,  0,  0,  0,  0,  0,  0,  0, 20]], dtype=int64)"
      ]
     },
     "execution_count": 196,
     "metadata": {},
     "output_type": "execute_result"
    }
   ],
   "source": [
    "from sklearn.metrics import confusion_matrix                                                     # imports the confusion_matrix function from sklearns.metrics \n",
    "\n",
    "alabel = []                                                                                      # creates an empty list of actual labels called `alabel`\n",
    "plabel = []                                                                                      # creates an empty list of predicted labels called `plabel`\n",
    "\n",
    "i = 0                                                                                            # sets `i` equal to 0\n",
    "    \n",
    "for i in range (1,10500,50):                                                                     # for `i` from 1 - 10,500 in steps of 50\n",
    "    predicted_label, neighbors = KNN(training_data, training_labels, testing_data[i], 7)         # implement KNN algorithm for training_data size 200 and 7 nearest neighbors\n",
    "    \n",
    "    alabel.append(testing_labels[i])                                                             # append the actual testing label to the `alabel` list\n",
    "    plabel.append(predicted_label)                                                               # append the predicted label to the list `plabel`\n",
    "\n",
    "    i+=1                                                                                         # increment `i` by 1\n",
    "\n",
    "confusion_matrix(alabel, plabel)                                                                 # create the confusion matrix"
   ]
  },
  {
   "cell_type": "markdown",
   "id": "104e9d37-f467-467b-a182-1a81a896e591",
   "metadata": {},
   "source": [
    "##### `testing_data` = 15,000"
   ]
  },
  {
   "cell_type": "code",
   "execution_count": 198,
   "id": "4eaa09d2-b193-4666-b567-bc6aa7e3c687",
   "metadata": {},
   "outputs": [
    {
     "data": {
      "text/plain": [
       "array([[26,  0,  0,  0,  0,  0,  0,  0,  0,  0],\n",
       "       [ 0, 42,  0,  0,  0,  0,  0,  0,  0,  0],\n",
       "       [ 0,  1, 36,  0,  0,  0,  0,  0,  0,  0],\n",
       "       [ 0,  0,  0, 31,  0,  1,  0,  0,  0,  0],\n",
       "       [ 0,  0,  0,  0, 18,  0,  0,  0,  0,  1],\n",
       "       [ 1,  0,  0,  0,  0, 21,  1,  0,  0,  0],\n",
       "       [ 0,  0,  0,  0,  0,  0, 22,  0,  0,  0],\n",
       "       [ 0,  1,  0,  0,  0,  0,  0, 35,  0,  0],\n",
       "       [ 0,  1,  0,  0,  0,  0,  0,  1, 30,  0],\n",
       "       [ 0,  0,  0,  0,  0,  0,  0,  0,  0, 31]], dtype=int64)"
      ]
     },
     "execution_count": 198,
     "metadata": {},
     "output_type": "execute_result"
    }
   ],
   "source": [
    "from sklearn.metrics import confusion_matrix                                                     # imports the confusion_matrix function from sklearns.metrics \n",
    "\n",
    "alabel = []                                                                                      # creates an empty list of actual labels called `alabel`\n",
    "plabel = []                                                                                      # creates an empty list of predicted labels called `plabel`\n",
    "\n",
    "i = 0                                                                                            # sets `i` equal to 0\n",
    "    \n",
    "for i in range (1,15000,50):                                                                     # for `i` from 1 - 15,000 in steps of 50\n",
    "    predicted_label, neighbors = KNN(training_data, training_labels, testing_data[i], 7)         # implement KNN algorithm for training_data size 200 and 7 nearest neighbors\n",
    "    \n",
    "    alabel.append(testing_labels[i])                                                             # append the actual testing label to the `alabel` list\n",
    "    plabel.append(predicted_label)                                                               # append the predicted label to the list `plabel`\n",
    "\n",
    "    i+=1                                                                                         # increment `i` by 1\n",
    "\n",
    "confusion_matrix(alabel, plabel)                                                                 # create the confusion matrix"
   ]
  },
  {
   "cell_type": "markdown",
   "id": "ae99055f-96a7-47bd-bc89-7643fec022e6",
   "metadata": {},
   "source": [
    "Looking across the 4 confusion matricies, we can see that accuracy increases as the size of the data set increases.\n",
    "\n",
    "$$\n",
    "\\begin{array}{|c|c|}\n",
    "\\hline\n",
    "\\textbf{Dataset Size} & \\textbf{Number of Errors} & \\textbf{Percent Accuracy} \\\\\n",
    "\\hline\n",
    "200   & 0  & 100\\\\\n",
    "2000  & 0  & 100\\\\\n",
    "10500 & 6  & 99.9\\\\\n",
    "15000 & 7  & 99.9\\\\\n",
    "\\hline\n",
    "\\end{array}\n",
    "$$\n",
    "\n",
    "Now, we will see how changing the k-value will effect the accuracy of the model."
   ]
  },
  {
   "cell_type": "markdown",
   "id": "d6c6ee96-418c-4de7-ae77-cd96ab3e8806",
   "metadata": {},
   "source": [
    "##### `k` = 2"
   ]
  },
  {
   "cell_type": "code",
   "execution_count": 239,
   "id": "77588e95-ae86-4e25-a108-8dd58dbb41d0",
   "metadata": {},
   "outputs": [
    {
     "data": {
      "text/plain": [
       "array([[26,  0,  0,  0,  0,  0,  0,  0,  0,  0],\n",
       "       [ 0, 42,  0,  0,  0,  0,  0,  0,  0,  0],\n",
       "       [ 0,  0, 37,  0,  0,  0,  0,  0,  0,  0],\n",
       "       [ 0,  0,  0, 31,  0,  1,  0,  0,  0,  0],\n",
       "       [ 0,  0,  0,  0, 18,  0,  0,  0,  0,  1],\n",
       "       [ 0,  0,  0,  0,  0, 22,  1,  0,  0,  0],\n",
       "       [ 0,  0,  0,  0,  0,  0, 22,  0,  0,  0],\n",
       "       [ 0,  1,  0,  0,  0,  0,  0, 35,  0,  0],\n",
       "       [ 0,  1,  0,  0,  0,  0,  0,  1, 30,  0],\n",
       "       [ 0,  0,  0,  0,  0,  0,  0,  0,  0, 31]], dtype=int64)"
      ]
     },
     "execution_count": 239,
     "metadata": {},
     "output_type": "execute_result"
    }
   ],
   "source": [
    "from sklearn.metrics import confusion_matrix                                                     # imports the confusion_matrix function from sklearns.metrics\n",
    "\n",
    "alabel = []                                                                                      # creates an empty list of actual labels called `alabel`\n",
    "plabel = []                                                                                      # creates an empty list of predicted labels called `plabel`\n",
    "\n",
    "i = 0                                                                                            # sets `i` equal to 0\n",
    "k = 2                                                                                            # sets `k` equal to 2\n",
    "    \n",
    "for i in range (1,15000,50):                                                                     # for `i` from 1 - 15,000 in steps of 50\n",
    "    \n",
    "    predicted_label, neighbors = KNN(training_data, training_labels, testing_data[i], k)         # implement KNN algorithm for training_data size 15,000 and 2 nearest neighbors\n",
    "    \n",
    "    alabel.append(testing_labels[i])                                                             # append the actual testing label to the `alabel` list\n",
    "    plabel.append(predicted_label)                                                               # append the predicted label to the list `plabel`\n",
    "\n",
    "    i+=1                                                                                         # increment `i` by 1\n",
    "\n",
    "confusion_matrix(alabel, plabel)                                                                 # create the confusion matrix"
   ]
  },
  {
   "cell_type": "markdown",
   "id": "1cd35229-3266-40a9-8e8e-88f158bf7803",
   "metadata": {},
   "source": [
    "##### `k` = 35"
   ]
  },
  {
   "cell_type": "code",
   "execution_count": 245,
   "id": "46f0e900-1c34-47e4-91d2-4fe9c11fa732",
   "metadata": {},
   "outputs": [
    {
     "data": {
      "text/plain": [
       "array([[26,  0,  0,  0,  0,  0,  0,  0,  0,  0],\n",
       "       [ 0, 42,  0,  0,  0,  0,  0,  0,  0,  0],\n",
       "       [ 0,  2, 34,  0,  0,  0,  0,  0,  1,  0],\n",
       "       [ 0,  0,  0, 31,  0,  1,  0,  0,  0,  0],\n",
       "       [ 0,  0,  0,  0, 19,  0,  0,  0,  0,  0],\n",
       "       [ 0,  0,  0,  0,  0, 22,  1,  0,  0,  0],\n",
       "       [ 0,  0,  0,  0,  0,  0, 22,  0,  0,  0],\n",
       "       [ 0,  1,  0,  0,  0,  0,  0, 35,  0,  0],\n",
       "       [ 0,  1,  0,  0,  0,  0,  0,  0, 31,  0],\n",
       "       [ 0,  0,  0,  0,  0,  0,  0,  0,  0, 31]], dtype=int64)"
      ]
     },
     "execution_count": 245,
     "metadata": {},
     "output_type": "execute_result"
    }
   ],
   "source": [
    "from sklearn.metrics import confusion_matrix                                                     # imports the confusion_matrix function from sklearns.metrics\n",
    "\n",
    "alabel = []                                                                                      # creates an empty list of actual labels called `alabel`\n",
    "plabel = []                                                                                      # creates an empty list of predicted labels called `plabel`\n",
    "\n",
    "i = 0                                                                                            # sets `i` equal to 0\n",
    "k = 35                                                                                           # sets `k` equal to 2\n",
    "    \n",
    "for i in range (1,15000,50):                                                                     # for `i` from 1 - 15,000 in steps of 50\n",
    "    \n",
    "    predicted_label, neighbors = KNN(training_data, training_labels, testing_data[i], k)         # implement KNN algorithm for training_data size 15,000 and 35 nearest neighbors\n",
    "    \n",
    "    alabel.append(testing_labels[i])                                                             # append the actual testing label to the `alabel` list\n",
    "    plabel.append(predicted_label)                                                               # append the predicted label to the list `plabel`\n",
    "\n",
    "    i+=1                                                                                         # increment `i` by 1\n",
    "\n",
    "confusion_matrix(alabel, plabel)                                                                 # create the confusion matrix"
   ]
  },
  {
   "cell_type": "markdown",
   "id": "25de0e0b-7593-4904-9d77-f0dd3d3fc6b3",
   "metadata": {},
   "source": [
    "##### `k` = 150"
   ]
  },
  {
   "cell_type": "code",
   "execution_count": 249,
   "id": "dc9a1e03-30c7-4614-8d2b-ecf4128c2d6b",
   "metadata": {},
   "outputs": [
    {
     "data": {
      "text/plain": [
       "array([[25,  0,  0,  0,  0,  1,  0,  0,  0,  0],\n",
       "       [ 0, 42,  0,  0,  0,  0,  0,  0,  0,  0],\n",
       "       [ 0,  2, 34,  0,  0,  0,  0,  0,  1,  0],\n",
       "       [ 0,  0,  0, 31,  0,  1,  0,  0,  0,  0],\n",
       "       [ 0,  0,  0,  0, 17,  0,  0,  0,  0,  2],\n",
       "       [ 0,  0,  0,  0,  0, 22,  1,  0,  0,  0],\n",
       "       [ 0,  0,  0,  0,  0,  0, 22,  0,  0,  0],\n",
       "       [ 0,  1,  0,  0,  0,  0,  0, 35,  0,  0],\n",
       "       [ 0,  1,  0,  0,  0,  0,  0,  1, 30,  0],\n",
       "       [ 0,  0,  0,  0,  0,  0,  0,  0,  0, 31]], dtype=int64)"
      ]
     },
     "execution_count": 249,
     "metadata": {},
     "output_type": "execute_result"
    }
   ],
   "source": [
    "from sklearn.metrics import confusion_matrix                                                     # imports the confusion_matrix function from sklearns.metrics\n",
    "\n",
    "alabel = []                                                                                      # creates an empty list of actual labels called `alabel`\n",
    "plabel = []                                                                                      # creates an empty list of predicted labels called `plabel`\n",
    "\n",
    "i = 0                                                                                            # sets `i` equal to 0\n",
    "k = 150                                                                                          # sets `k` equal to 2\n",
    "    \n",
    "for i in range (1,15000,50):                                                                     # for `i` from 1 - 15,000 in steps of 50\n",
    "    \n",
    "    predicted_label, neighbors = KNN(training_data, training_labels, testing_data[i], k)         # implement KNN algorithm for training_data size 15,000 and 150 nearest neighbors\n",
    "    \n",
    "    alabel.append(testing_labels[i])                                                             # append the actual testing label to the `alabel` list\n",
    "    plabel.append(predicted_label)                                                               # append the predicted label to the list `plabel`\n",
    "\n",
    "    i+=1                                                                                         # increment `i` by 1\n",
    "\n",
    "confusion_matrix(alabel, plabel)                                                                 # create the confusion matrix"
   ]
  },
  {
   "cell_type": "markdown",
   "id": "073df807-45a4-45dd-b47a-fb7c8d237ad1",
   "metadata": {},
   "source": [
    "##### `k` = 500"
   ]
  },
  {
   "cell_type": "code",
   "execution_count": 252,
   "id": "3879c082-c397-4384-bad3-b1b8d3928664",
   "metadata": {},
   "outputs": [
    {
     "data": {
      "text/plain": [
       "array([[25,  0,  0,  0,  0,  1,  0,  0,  0,  0],\n",
       "       [ 0, 42,  0,  0,  0,  0,  0,  0,  0,  0],\n",
       "       [ 2,  2, 31,  0,  0,  0,  0,  0,  2,  0],\n",
       "       [ 0,  0,  0, 31,  0,  1,  0,  0,  0,  0],\n",
       "       [ 0,  0,  0,  0, 15,  0,  0,  0,  0,  4],\n",
       "       [ 0,  1,  0,  0,  0, 22,  0,  0,  0,  0],\n",
       "       [ 0,  0,  0,  0,  0,  0, 22,  0,  0,  0],\n",
       "       [ 0,  1,  0,  0,  0,  0,  0, 35,  0,  0],\n",
       "       [ 0,  3,  0,  0,  0,  0,  0,  1, 28,  0],\n",
       "       [ 0,  0,  0,  0,  0,  0,  0,  0,  0, 31]], dtype=int64)"
      ]
     },
     "execution_count": 252,
     "metadata": {},
     "output_type": "execute_result"
    }
   ],
   "source": [
    "from sklearn.metrics import confusion_matrix                                                     # imports the confusion_matrix function from sklearns.metrics\n",
    "\n",
    "alabel = []                                                                                      # creates an empty list of actual labels called `alabel`\n",
    "plabel = []                                                                                      # creates an empty list of predicted labels called `plabel`\n",
    "\n",
    "i = 0                                                                                            # sets `i` equal to 0\n",
    "k = 500                                                                                          # sets `k` equal to 2\n",
    "    \n",
    "for i in range (1,15000,50):                                                                     # for `i` from 1 - 15,000 in steps of 50\n",
    "    \n",
    "    predicted_label, neighbors = KNN(training_data, training_labels, testing_data[i], k)         # implement KNN algorithm for training_data size 15,000 and 500 nearest neighbors\n",
    "    \n",
    "    alabel.append(testing_labels[i])                                                             # append the actual testing label to the `alabel` list\n",
    "    plabel.append(predicted_label)                                                               # append the predicted label to the list `plabel`\n",
    "\n",
    "    i+=1                                                                                         # increment `i` by 1\n",
    "\n",
    "confusion_matrix(alabel, plabel)                                                                 # create the confusion matrix"
   ]
  },
  {
   "cell_type": "markdown",
   "id": "a0cc07ef-f5d4-44a2-af86-e4c7f3896379",
   "metadata": {},
   "source": [
    "Looking across the 4 confusion matricies, we can see that accuracy decreases as the size of the k-value increases.\n",
    "\n",
    "$$\n",
    "\\begin{array}{|c|c|}\n",
    "\\hline\n",
    "\\textbf{Dataset Size} & \\textbf{Number of Errors} \\\\\n",
    "\\hline\n",
    "2    &  6 \\\\\n",
    "35   &  8 \\\\\n",
    "150  &  8 \\\\\n",
    "500  & 16 \\\\\n",
    "\\hline\n",
    "\\end{array}\n",
    "$$\n",
    "\n",
    "It is obvious that large k-values do not predict labels as accurately as smaller k-values. "
   ]
  },
  {
   "cell_type": "markdown",
   "id": "36173835-8e71-4360-a665-c79d509dfcfa",
   "metadata": {},
   "source": [
    "#### Elbow Graphs\n",
    "\n",
    "As mentioned in the introduction, the purpose of the elbow graph is to determine the best k-vlaue for a tada set. The graph should show increasing clusters, aka decreasing error, until a point where the rate of errors decreasing begins to slow down. That point should be the best k-value. "
   ]
  },
  {
   "cell_type": "code",
   "execution_count": 261,
   "id": "0abafe9b-a350-4ff7-8f50-6e8a41f5f56c",
   "metadata": {},
   "outputs": [
    {
     "data": {
      "image/png": "[encoded data removed]",
      "text/plain": [
       "<Figure size 640x480 with 1 Axes>"
      ]
     },
     "metadata": {},
     "output_type": "display_data"
    }
   ],
   "source": [
    "# WARNING!!! This takes a while to run\n",
    "accuracy_list = []                                                                              # creates an empty list `accuracy_list`\n",
    "\n",
    "i = 0                                                                                           # sets `i` equal to 0\n",
    "\n",
    "# for every k, 99 iterations are run\n",
    "for k in range(1,20):                                                                           # for k from 1 to 20\n",
    "    correct_count = 0                                                                           # sets the `correct_count` equal to 0\n",
    "    \n",
    "    for i in range(1,100):                                                                      # for every `i` from 1 to 100\n",
    "        predicted_label, neighbors = KNN(training_data, training_labels, testing_data[i], k)    # uses KNN algorithm to find the predicted label and list of nearest neighbors\n",
    "        actual_label = testing_labels[i]                                                        # `actual_label` is the label given by the testing label\n",
    "        \n",
    "        if predicted_label == actual_label:                                                     # if the predicted label and the actual label are the same\n",
    "            correct_count += 1                                                                  # add 1 to the correct count, else nothing gets added\n",
    "    \n",
    "    accuracy = correct_count / num_test_images                                                  # accuracy of each k is caclulated\n",
    "    accuracy_list.append(accuracy)                                                              # accuracy is added to the `accuracy_list`\n",
    "\n",
    "# plotting the graph\n",
    "plt.plot(k_values, accuracy_list, marker='o')\n",
    "plt.xlabel('K-Value')\n",
    "plt.ylabel('Accuracy')\n",
    "plt.title('Accuracy vs. K-Value')\n",
    "plt.grid(True)\n",
    "plt.show()"
   ]
  },
  {
   "cell_type": "markdown",
   "id": "c637716c-a294-4d57-94df-bf2bbe87bd2d",
   "metadata": {},
   "source": [
    "Looking at this elbow graph, we can see that there is 100% accuracy when the k-value is about 19."
   ]
  },
  {
   "cell_type": "markdown",
   "id": "2e2caa4d-bf02-4734-b041-b174edf40a7c",
   "metadata": {},
   "source": [
    "###  <h1><center>Different Distance Metrics</center></h1>\n",
    "\n",
    "\n"
   ]
  },
  {
   "cell_type": "markdown",
   "id": "d88a802f-6e36-430f-8bf4-ad2702114e8e",
   "metadata": {},
   "source": [
    "Now, different distance equations will be implemented to see how it affects the KNN algorithm."
   ]
  },
  {
   "cell_type": "markdown",
   "id": "d11bf0ce-2d14-4734-ae98-03dea4b71fe3",
   "metadata": {},
   "source": [
    "### Manhattan Distance"
   ]
  },
  {
   "cell_type": "code",
   "execution_count": 369,
   "id": "8e011362-e5c0-464c-8554-a3db76ec3fa3",
   "metadata": {},
   "outputs": [],
   "source": [
    "def KNN(training_data, training_labels, point, k):                         # define KNN as a function taking \"training_data\", \"training_labels\", (target) \"point\", and \"k\" as parameters\n",
    "    \n",
    "    distance = manhattanDistance(training_data, point)                     # finds the distance between each point in the training data and the target point\n",
    "    distanceK = np.argsort(distance)[:k]                                   # sorts all distances in ascending order to k (the number of nearest neighbors)\n",
    "    label = training_labels[distanceK]                                     # retrieves the labels of the k nearest neighbors by indexing training_labels with distanceK.\n",
    "    predicted_label = st.mode(label)                                       # Finds the most frequently occuring label\n",
    "    \n",
    "\n",
    "    return predicted_label, distanceK                                      # returns the predicted label and a list of nearest neighbors"
   ]
  },
  {
   "cell_type": "markdown",
   "id": "2175fa9a-4a97-49e1-b4d9-785507f4fa1d",
   "metadata": {},
   "source": [
    "##### `testing_data` = 784 and `k` = 5"
   ]
  },
  {
   "cell_type": "code",
   "execution_count": 288,
   "id": "6d923cc0-94a3-4361-80c5-ee9041a741c5",
   "metadata": {},
   "outputs": [
    {
     "name": "stdout",
     "output_type": "stream",
     "text": [
      "Predicted Label: 7\n",
      "Nearest Neighbors: [31156 35978 10640 37556 22416]\n"
     ]
    },
    {
     "data": {
      "text/plain": [
       "7"
      ]
     },
     "execution_count": 288,
     "metadata": {},
     "output_type": "execute_result"
    }
   ],
   "source": [
    "predicted_label, neighbors = KNN(training_data, training_labels, testing_data[784], 5)      # the function `KNN` is called with 784 points in testing_data and 5 nearest neighbors that will retun a predicted label and a list of nearest neighbors\n",
    "print(\"Predicted Label:\", predicted_label)                                                  # prints the prediceted label                                            \n",
    "print(\"Nearest Neighbors:\", neighbors)                                                      # prints the list of nearest neighbors\n",
    "testing_labels[784]                                                                         # prints the actual label"
   ]
  },
  {
   "cell_type": "markdown",
   "id": "37241cb6-8869-48cf-9440-deacb7a5e0ba",
   "metadata": {},
   "source": [
    "##### `testing_data` = 19,999 and `k` = 10"
   ]
  },
  {
   "cell_type": "code",
   "execution_count": 290,
   "id": "b05ea6ce-df17-4d07-acbd-7e7e2d29899f",
   "metadata": {},
   "outputs": [
    {
     "name": "stdout",
     "output_type": "stream",
     "text": [
      "Predicted Label: 8\n",
      "Nearest Neighbors: [24241  1013 30521 31399 20269 29965 17393  8701 20157 14611]\n"
     ]
    },
    {
     "data": {
      "text/plain": [
       "8"
      ]
     },
     "execution_count": 290,
     "metadata": {},
     "output_type": "execute_result"
    }
   ],
   "source": [
    "predicted_label, neighbors = KNN(training_data, training_labels, testing_data[19999], 10)    # the function `KNN` is called with 19999 points in testing_data and 10 nearest neighbors that will retun a predicted label and a list of nearest neighbors\n",
    "print(\"Predicted Label:\", predicted_label)                                                   # prints the prediceted label                                            \n",
    "print(\"Nearest Neighbors:\", neighbors)                                                       # prints the list of nearest neighbors\n",
    "testing_labels[19999]                                                                        # prints the actual label"
   ]
  },
  {
   "cell_type": "markdown",
   "id": "f9307a2f-8b05-4df0-92bb-fe8aa33aeb3c",
   "metadata": {},
   "source": [
    "When applying the **Mannhattan Distance** metric, the algorithm seems to act just like it did with the Eucledian Distance metric. Now, we will check the accuracy. "
   ]
  },
  {
   "cell_type": "markdown",
   "id": "6b62c095-932d-48ac-ae95-5d8379e14fca",
   "metadata": {},
   "source": [
    "##### `testing_data` = 200"
   ]
  },
  {
   "cell_type": "code",
   "execution_count": 295,
   "id": "fdf6e9ab-5346-439d-bc42-41a829f51c12",
   "metadata": {},
   "outputs": [
    {
     "data": {
      "text/plain": [
       "array([[1, 0, 0, 0],\n",
       "       [0, 1, 0, 0],\n",
       "       [0, 0, 1, 0],\n",
       "       [0, 0, 0, 1]], dtype=int64)"
      ]
     },
     "execution_count": 295,
     "metadata": {},
     "output_type": "execute_result"
    }
   ],
   "source": [
    "from sklearn.metrics import confusion_matrix                                                     # imports the confusion_matrix function from sklearns.metrics \n",
    "\n",
    "alabel = []                                                                                      # creates an empty list of actual labels called `alabel`\n",
    "plabel = []                                                                                      # creates an empty list of predicted labels called `plabel`\n",
    "\n",
    "i = 0                                                                                            # sets `i` equal to 0\n",
    "    \n",
    "for i in range (1,200,50):                                                                       # for `i` from 1 - 200 in steps of 50\n",
    "    predicted_label, neighbors = KNN(training_data, training_labels, testing_data[i], 7)         # implement KNN algorithm for training_data size 200 and 7 nearest neighbors\n",
    "    \n",
    "    alabel.append(testing_labels[i])                                                             # append the actual testing label to the `alabel` list\n",
    "    plabel.append(predicted_label)                                                               # append the predicted label to the list `plabel`\n",
    "\n",
    "    i+=1                                                                                         # increment `i` by 1\n",
    "\n",
    "confusion_matrix(alabel, plabel)                                                                 # create the confusion matrix"
   ]
  },
  {
   "cell_type": "markdown",
   "id": "f6e66833-3aad-42d1-aad2-d60b1632521e",
   "metadata": {},
   "source": [
    "##### `testing_data` = 2000"
   ]
  },
  {
   "cell_type": "code",
   "execution_count": 298,
   "id": "57705322-e9ec-4541-90f8-4d60c611037b",
   "metadata": {},
   "outputs": [
    {
     "data": {
      "text/plain": [
       "array([[5, 0, 0, 0, 0, 0, 0, 0, 0, 0],\n",
       "       [0, 4, 0, 0, 0, 0, 0, 0, 0, 0],\n",
       "       [0, 0, 6, 0, 0, 0, 0, 0, 0, 0],\n",
       "       [0, 0, 0, 4, 0, 0, 0, 0, 0, 0],\n",
       "       [0, 0, 0, 0, 1, 0, 0, 0, 0, 0],\n",
       "       [0, 0, 0, 0, 0, 2, 0, 0, 0, 0],\n",
       "       [0, 0, 0, 0, 0, 0, 5, 0, 0, 0],\n",
       "       [0, 0, 0, 0, 0, 0, 0, 7, 0, 0],\n",
       "       [0, 0, 0, 0, 0, 0, 0, 0, 3, 0],\n",
       "       [0, 0, 0, 0, 0, 0, 0, 0, 0, 3]], dtype=int64)"
      ]
     },
     "execution_count": 298,
     "metadata": {},
     "output_type": "execute_result"
    }
   ],
   "source": [
    "from sklearn.metrics import confusion_matrix                                                     # imports the confusion_matrix function from sklearns.metrics \n",
    "\n",
    "alabel = []                                                                                      # creates an empty list of actual labels called `alabel`\n",
    "plabel = []                                                                                      # creates an empty list of predicted labels called `plabel`\n",
    "\n",
    "i = 0                                                                                            # sets `i` equal to 0\n",
    "    \n",
    "for i in range (1,2000,50):                                                                      # for `i` from 1 - 2000 in steps of 50\n",
    "    predicted_label, neighbors = KNN(training_data, training_labels, testing_data[i], 7)         # implement KNN algorithm for training_data size 200 and 7 nearest neighbors\n",
    "    \n",
    "    alabel.append(testing_labels[i])                                                             # append the actual testing label to the `alabel` list\n",
    "    plabel.append(predicted_label)                                                               # append the predicted label to the list `plabel`\n",
    "\n",
    "    i+=1                                                                                         # increment `i` by 1\n",
    "\n",
    "confusion_matrix(alabel, plabel)                                                                 # create the confusion matrix"
   ]
  },
  {
   "cell_type": "markdown",
   "id": "0081cf88-5c08-45fa-8c5d-354b8eb1a9c5",
   "metadata": {},
   "source": [
    "##### `testing_data` = 10,500"
   ]
  },
  {
   "cell_type": "code",
   "execution_count": 308,
   "id": "25f0706b-89d3-462c-b5d8-e5d132a121ee",
   "metadata": {},
   "outputs": [
    {
     "data": {
      "text/plain": [
       "array([[19,  0,  0,  0,  0,  0,  0,  0,  0,  0],\n",
       "       [ 0, 26,  0,  0,  0,  0,  0,  0,  0,  0],\n",
       "       [ 0,  1, 24,  0,  0,  0,  0,  0,  0,  0],\n",
       "       [ 0,  0,  0, 20,  0,  1,  0,  0,  0,  0],\n",
       "       [ 0,  0,  0,  0, 12,  0,  0,  0,  0,  1],\n",
       "       [ 1,  0,  0,  0,  0, 13,  1,  0,  0,  0],\n",
       "       [ 0,  0,  0,  0,  0,  0, 17,  0,  0,  0],\n",
       "       [ 0,  1,  0,  0,  0,  0,  0, 30,  0,  0],\n",
       "       [ 0,  1,  0,  0,  0,  0,  0,  0, 22,  0],\n",
       "       [ 0,  0,  0,  0,  0,  0,  0,  0,  0, 20]], dtype=int64)"
      ]
     },
     "execution_count": 308,
     "metadata": {},
     "output_type": "execute_result"
    }
   ],
   "source": [
    "from sklearn.metrics import confusion_matrix                                                     # imports the confusion_matrix function from sklearns.metrics \n",
    "\n",
    "alabel = []                                                                                      # creates an empty list of actual labels called `alabel`\n",
    "plabel = []                                                                                      # creates an empty list of predicted labels called `plabel`\n",
    "\n",
    "i = 0                                                                                            # sets `i` equal to 0\n",
    "    \n",
    "for i in range (1,10500,50):                                                                     # for `i` from 1 - 10,500 in steps of 50\n",
    "    predicted_label, neighbors = KNN(training_data, training_labels, testing_data[i], 7)         # implement KNN algorithm for training_data size 200 and 7 nearest neighbors\n",
    "    \n",
    "    alabel.append(testing_labels[i])                                                             # append the actual testing label to the `alabel` list\n",
    "    plabel.append(predicted_label)                                                               # append the predicted label to the list `plabel`\n",
    "\n",
    "    i+=1                                                                                         # increment `i` by 1\n",
    "\n",
    "confusion_matrix(alabel, plabel)                                                                 # create the confusion matrix"
   ]
  },
  {
   "cell_type": "markdown",
   "id": "634e8373-952b-4a3c-84a3-9a6ac319537f",
   "metadata": {},
   "source": [
    "##### `testing_data` = 15,000"
   ]
  },
  {
   "cell_type": "code",
   "execution_count": 312,
   "id": "3a963f2b-cbea-49ca-8796-f639c90bc067",
   "metadata": {},
   "outputs": [
    {
     "data": {
      "text/plain": [
       "array([[26,  0,  0,  0,  0,  0,  0,  0,  0,  0],\n",
       "       [ 0, 42,  0,  0,  0,  0,  0,  0,  0,  0],\n",
       "       [ 0,  1, 36,  0,  0,  0,  0,  0,  0,  0],\n",
       "       [ 0,  0,  0, 31,  0,  1,  0,  0,  0,  0],\n",
       "       [ 0,  0,  0,  0, 18,  0,  0,  0,  0,  1],\n",
       "       [ 1,  0,  0,  0,  0, 21,  1,  0,  0,  0],\n",
       "       [ 0,  0,  0,  0,  0,  0, 22,  0,  0,  0],\n",
       "       [ 0,  1,  0,  0,  0,  0,  0, 35,  0,  0],\n",
       "       [ 0,  1,  0,  0,  0,  0,  0,  1, 30,  0],\n",
       "       [ 0,  0,  0,  0,  0,  0,  0,  0,  0, 31]], dtype=int64)"
      ]
     },
     "execution_count": 312,
     "metadata": {},
     "output_type": "execute_result"
    }
   ],
   "source": [
    "from sklearn.metrics import confusion_matrix                                                     # imports the confusion_matrix function from sklearns.metrics \n",
    "\n",
    "alabel = []                                                                                      # creates an empty list of actual labels called `alabel`\n",
    "plabel = []                                                                                      # creates an empty list of predicted labels called `plabel`\n",
    "\n",
    "i = 0                                                                                            # sets `i` equal to 0\n",
    "    \n",
    "for i in range (1,15000,50):                                                                     # for `i` from 1 - 15,000 in steps of 50\n",
    "    predicted_label, neighbors = KNN(training_data, training_labels, testing_data[i], 7)         # implement KNN algorithm for training_data size 200 and 7 nearest neighbors\n",
    "    \n",
    "    alabel.append(testing_labels[i])                                                             # append the actual testing label to the `alabel` list\n",
    "    plabel.append(predicted_label)                                                               # append the predicted label to the list `plabel`\n",
    "\n",
    "    i+=1                                                                                         # increment `i` by 1\n",
    "\n",
    "confusion_matrix(alabel, plabel)                                                                 # create the confusion matrix"
   ]
  },
  {
   "cell_type": "markdown",
   "id": "ba49be35-1c34-458d-8a89-609ffbe0b374",
   "metadata": {},
   "source": [
    "Let's compare the accuracy of the KNN algorithm with Manhattan Distance to the accuracy of the KNN algorithm with Eucledian Distance. \n",
    "\n",
    "$$\n",
    "\\begin{aligned}\n",
    "% First table\n",
    "\\begin{array}{|c|c|}\n",
    "\\hline\n",
    "\\textbf{Manhattan Distance} &  \\\\[-2pt]\n",
    "\\hline\n",
    "\\textbf{Dataset Size} & \\textbf{Number of Errors} & \\textbf{Percent Accuracy} \\\\\n",
    "\\hline\n",
    "200   & 0  & 100\\\\\n",
    "2000  & 0  & 100\\\\\n",
    "10500 & 6  & 99.9\\\\\n",
    "15000 & 7  & 99.9\\\\\n",
    "\\hline\n",
    "\\end{array}\n",
    "\\quad\n",
    "% Second table\n",
    "\\begin{array}{|c|c|}\n",
    "\\hline\n",
    "\\textbf{Euclidean Distance} &  \\\\[-2pt]\n",
    "\\hline\n",
    "\\textbf{Dataset Size} & \\textbf{Number of Errors} & \\textbf{Percent Accuracy} \\\\\n",
    "\\hline\n",
    "200   & 0  & 100\\\\\n",
    "2000  & 0  & 100\\\\\n",
    "10500 & 6  & 99.9\\\\\n",
    "15000 & 7  & 99.9\\\\\n",
    "\\hline\n",
    "\\end{array}\n",
    "\\end{aligned}\n",
    "$$\n",
    "\n",
    "\n",
    "\n",
    "Both distance metrics have the same accuracy for each data set. They follow the same accuracy trend where as the data set increases in size, the accuracy also increases. \n"
   ]
  },
  {
   "cell_type": "markdown",
   "id": "1302f216-e2da-4427-8b40-93c49ac6b379",
   "metadata": {},
   "source": [
    "##### `k` = 2"
   ]
  },
  {
   "cell_type": "code",
   "execution_count": 347,
   "id": "0980d845-baca-460c-8c00-c1ec650c7ed2",
   "metadata": {},
   "outputs": [
    {
     "data": {
      "text/plain": [
       "array([[26,  0,  0,  0,  0,  0,  0,  0,  0,  0],\n",
       "       [ 0, 42,  0,  0,  0,  0,  0,  0,  0,  0],\n",
       "       [ 1,  0, 36,  0,  0,  0,  0,  0,  0,  0],\n",
       "       [ 0,  0,  0, 31,  0,  1,  0,  0,  0,  0],\n",
       "       [ 0,  0,  0,  0, 18,  0,  0,  0,  0,  1],\n",
       "       [ 0,  0,  0,  0,  0, 22,  1,  0,  0,  0],\n",
       "       [ 0,  0,  0,  0,  0,  0, 22,  0,  0,  0],\n",
       "       [ 0,  1,  0,  0,  0,  0,  0, 35,  0,  0],\n",
       "       [ 0,  1,  0,  0,  0,  0,  0,  1, 30,  0],\n",
       "       [ 0,  0,  0,  0,  0,  0,  0,  0,  0, 31]], dtype=int64)"
      ]
     },
     "execution_count": 347,
     "metadata": {},
     "output_type": "execute_result"
    }
   ],
   "source": [
    "from sklearn.metrics import confusion_matrix                                                     # imports the confusion_matrix function from sklearns.metrics\n",
    "\n",
    "alabel = []                                                                                      # creates an empty list of actual labels called `alabel`\n",
    "plabel = []                                                                                      # creates an empty list of predicted labels called `plabel`\n",
    "\n",
    "i = 0                                                                                            # sets `i` equal to 0\n",
    "k = 2                                                                                            # sets `k` equal to 2\n",
    "    \n",
    "for i in range (1,15000,50):                                                                     # for `i` from 1 - 15,000 in steps of 50\n",
    "    \n",
    "    predicted_label, neighbors = KNN(training_data, training_labels, testing_data[i], k)         # implement KNN algorithm for training_data size 15,000 and 2 nearest neighbors\n",
    "    \n",
    "    alabel.append(testing_labels[i])                                                             # append the actual testing label to the `alabel` list\n",
    "    plabel.append(predicted_label)                                                               # append the predicted label to the list `plabel`\n",
    "\n",
    "    i+=1                                                                                         # increment `i` by 1\n",
    "\n",
    "confusion_matrix(alabel, plabel)                                                                 # create the confusion matrix"
   ]
  },
  {
   "cell_type": "markdown",
   "id": "42ba33c4-e798-48db-97c6-15ed60f5bf61",
   "metadata": {},
   "source": [
    "##### `k` = 35"
   ]
  },
  {
   "cell_type": "code",
   "execution_count": 351,
   "id": "be8b33ef-272c-4854-b435-50c5e2252a35",
   "metadata": {},
   "outputs": [
    {
     "data": {
      "text/plain": [
       "array([[26,  0,  0,  0,  0,  0,  0,  0,  0,  0],\n",
       "       [ 0, 42,  0,  0,  0,  0,  0,  0,  0,  0],\n",
       "       [ 0,  2, 34,  0,  0,  0,  0,  0,  1,  0],\n",
       "       [ 0,  0,  0, 31,  0,  1,  0,  0,  0,  0],\n",
       "       [ 0,  0,  0,  0, 19,  0,  0,  0,  0,  0],\n",
       "       [ 0,  0,  0,  0,  0, 23,  0,  0,  0,  0],\n",
       "       [ 0,  0,  0,  0,  0,  0, 22,  0,  0,  0],\n",
       "       [ 0,  1,  0,  0,  0,  0,  0, 35,  0,  0],\n",
       "       [ 0,  1,  0,  0,  0,  0,  0,  1, 30,  0],\n",
       "       [ 0,  0,  0,  0,  0,  0,  0,  0,  0, 31]], dtype=int64)"
      ]
     },
     "execution_count": 351,
     "metadata": {},
     "output_type": "execute_result"
    }
   ],
   "source": [
    "from sklearn.metrics import confusion_matrix                                                     # imports the confusion_matrix function from sklearns.metrics\n",
    "\n",
    "alabel = []                                                                                      # creates an empty list of actual labels called `alabel`\n",
    "plabel = []                                                                                      # creates an empty list of predicted labels called `plabel`\n",
    "\n",
    "i = 0                                                                                            # sets `i` equal to 0\n",
    "k = 35                                                                                           # sets `k` equal to 2\n",
    "    \n",
    "for i in range (1,15000,50):                                                                     # for `i` from 1 - 15,000 in steps of 50\n",
    "    \n",
    "    predicted_label, neighbors = KNN(training_data, training_labels, testing_data[i], k)         # implement KNN algorithm for training_data size 15,000 and 35 nearest neighbors\n",
    "    \n",
    "    alabel.append(testing_labels[i])                                                             # append the actual testing label to the `alabel` list\n",
    "    plabel.append(predicted_label)                                                               # append the predicted label to the list `plabel`\n",
    "\n",
    "    i+=1                                                                                         # increment `i` by 1\n",
    "\n",
    "confusion_matrix(alabel, plabel)                                                                 # create the confusion matrix"
   ]
  },
  {
   "cell_type": "markdown",
   "id": "edd8e19d-1469-417a-8f46-2e1cc68900c3",
   "metadata": {},
   "source": [
    "##### `k` = 150"
   ]
  },
  {
   "cell_type": "code",
   "execution_count": 359,
   "id": "a13286c4-ef03-4e7b-85be-999ee50538fc",
   "metadata": {},
   "outputs": [
    {
     "data": {
      "text/plain": [
       "array([[25,  0,  0,  0,  0,  1,  0,  0,  0,  0],\n",
       "       [ 0, 42,  0,  0,  0,  0,  0,  0,  0,  0],\n",
       "       [ 0,  2, 34,  0,  0,  0,  0,  0,  1,  0],\n",
       "       [ 0,  0,  0, 31,  0,  1,  0,  0,  0,  0],\n",
       "       [ 0,  0,  0,  0, 17,  0,  0,  0,  0,  2],\n",
       "       [ 0,  1,  0,  0,  0, 22,  0,  0,  0,  0],\n",
       "       [ 0,  0,  0,  0,  0,  0, 22,  0,  0,  0],\n",
       "       [ 0,  1,  0,  0,  0,  0,  0, 35,  0,  0],\n",
       "       [ 0,  3,  0,  0,  0,  0,  0,  1, 28,  0],\n",
       "       [ 0,  0,  0,  0,  0,  0,  0,  0,  0, 31]], dtype=int64)"
      ]
     },
     "execution_count": 359,
     "metadata": {},
     "output_type": "execute_result"
    }
   ],
   "source": [
    "from sklearn.metrics import confusion_matrix                                                     # imports the confusion_matrix function from sklearns.metrics\n",
    "\n",
    "alabel = []                                                                                      # creates an empty list of actual labels called `alabel`\n",
    "plabel = []                                                                                      # creates an empty list of predicted labels called `plabel`\n",
    "\n",
    "i = 0                                                                                            # sets `i` equal to 0\n",
    "k = 150                                                                                          # sets `k` equal to 2\n",
    "    \n",
    "for i in range (1,15000,50):                                                                     # for `i` from 1 - 15,000 in steps of 50\n",
    "    \n",
    "    predicted_label, neighbors = KNN(training_data, training_labels, testing_data[i], k)         # implement KNN algorithm for training_data size 15,000 and 150 nearest neighbors\n",
    "    \n",
    "    alabel.append(testing_labels[i])                                                             # append the actual testing label to the `alabel` list\n",
    "    plabel.append(predicted_label)                                                               # append the predicted label to the list `plabel`\n",
    "\n",
    "    i+=1                                                                                         # increment `i` by 1\n",
    "\n",
    "confusion_matrix(alabel, plabel)                                                                 # create the confusion matrix"
   ]
  },
  {
   "cell_type": "markdown",
   "id": "ee027575-8563-4331-9d20-68804e478fb8",
   "metadata": {},
   "source": [
    "##### `k` = 500"
   ]
  },
  {
   "cell_type": "code",
   "execution_count": 360,
   "id": "f3f73ccf-f16d-45c4-a073-95ebebda38f1",
   "metadata": {},
   "outputs": [
    {
     "data": {
      "text/plain": [
       "array([[25,  0,  0,  0,  0,  1,  0,  0,  0,  0],\n",
       "       [ 0, 42,  0,  0,  0,  0,  0,  0,  0,  0],\n",
       "       [ 1,  4, 31,  0,  0,  0,  0,  0,  1,  0],\n",
       "       [ 0,  0,  0, 31,  0,  1,  0,  0,  0,  0],\n",
       "       [ 0,  1,  0,  0, 15,  0,  0,  0,  0,  3],\n",
       "       [ 0,  2,  0,  1,  0, 20,  0,  0,  0,  0],\n",
       "       [ 0,  0,  0,  0,  0,  0, 22,  0,  0,  0],\n",
       "       [ 0,  1,  0,  0,  0,  0,  0, 35,  0,  0],\n",
       "       [ 0,  4,  0,  0,  0,  0,  0,  1, 26,  1],\n",
       "       [ 0,  0,  0,  0,  0,  0,  0,  0,  0, 31]], dtype=int64)"
      ]
     },
     "execution_count": 360,
     "metadata": {},
     "output_type": "execute_result"
    }
   ],
   "source": [
    "from sklearn.metrics import confusion_matrix                                                     # imports the confusion_matrix function from sklearns.metrics\n",
    "\n",
    "alabel = []                                                                                      # creates an empty list of actual labels called `alabel`\n",
    "plabel = []                                                                                      # creates an empty list of predicted labels called `plabel`\n",
    "\n",
    "i = 0                                                                                            # sets `i` equal to 0\n",
    "k = 500                                                                                          # sets `k` equal to 2\n",
    "    \n",
    "for i in range (1,15000,50):                                                                     # for `i` from 1 - 15,000 in steps of 50\n",
    "    \n",
    "    predicted_label, neighbors = KNN(training_data, training_labels, testing_data[i], k)         # implement KNN algorithm for training_data size 15,000 and 500 nearest neighbors\n",
    "    \n",
    "    alabel.append(testing_labels[i])                                                             # append the actual testing label to the `alabel` list\n",
    "    plabel.append(predicted_label)                                                               # append the predicted label to the list `plabel`\n",
    "\n",
    "    i+=1                                                                                         # increment `i` by 1\n",
    "\n",
    "confusion_matrix(alabel, plabel)                                                                 # create the confusion matrix"
   ]
  },
  {
   "cell_type": "markdown",
   "id": "ad882dc4-6e29-4e7c-a42c-e49dbb469fd8",
   "metadata": {},
   "source": [
    "Let's compare the accuracy of the KNN algorithm with Manhattan Distance to the accuracy of the KNN algorithm with Eucledian Distance. \n",
    "\n",
    "$$\n",
    "\\begin{aligned}\n",
    "% First table\n",
    "\\begin{array}{|c|c|}\n",
    "\\hline\n",
    "\\textbf{Manhattan Distance} &  \\\\[-2pt]\n",
    "\\hline\n",
    "\\textbf{k-Value} & \\textbf{Number of Errors}\\\\\n",
    "\\hline\n",
    "2   &  7 \\\\\n",
    "35  &  5 \\\\\n",
    "150 & 12 \\\\\n",
    "500 & 22 \\\\\n",
    "\\hline\n",
    "\\end{array}\n",
    "\\quad\n",
    "% Second table\n",
    "\\begin{array}{|c|c|}\n",
    "\\hline\n",
    "\\textbf{Euclidean Distance} &  \\\\[-2pt]\n",
    "\\hline\n",
    "\\textbf{k-Value} & \\textbf{Number of Errors} \\\\\n",
    "\\hline\n",
    "2   &  6 \\\\\n",
    "35  &  8 \\\\\n",
    "150 &  8 \\\\\n",
    "500 & 16 \\\\\n",
    "\\hline\n",
    "\\end{array}\n",
    "\\end{aligned}\n",
    "$$\n",
    "\n",
    "\n",
    "\n",
    "Both distance metrics follow the same accuracy trend where as the k-value increases in size, the accuracy decreases. \n"
   ]
  },
  {
   "cell_type": "markdown",
   "id": "2cf2556b-5ba9-4fd0-8f04-488273afa167",
   "metadata": {},
   "source": [
    "###  <h1><center>Conclusion</center></h1>"
   ]
  },
  {
   "cell_type": "markdown",
   "id": "ba76fb75-b1a6-4f6c-bf23-774238ffe96d",
   "metadata": {},
   "source": [
    "Using the `MNIST Database` to implement and test a K-Nearest Numbers Algorithm revealed many interesting things about training supervised learning method machine learning. It was very interesting to see how changing variables like testing data and the distance metrics effected the accuracy of the model.\n",
    "\n",
    "Through the KNN algorithm, it was easy to see that increasing the size of the training set generally leads to improved accuracy. Experimenting with different values of `k`, adjusting the training set size, and trying out alternative distance metrics showed me firsthand how sensitive the algorithm is to these parameters. I didn't realize how computation heavy this type of algorithm was until analyzing the data. Looking at the data, you can see that adjusting the value of `k` highlighted a clear trade-off: a lower `k` may result in more variability in predictions, while a higher k can smooth out anomalies at the risk of oversimplifying decision boundaries. While there was supposed to be a visual aspect to show how the value of k does this, I couldn't get the code to work. Furthermore, experimenting with a different distance metric was interesting, but all of the data matched that of the KNN with Euclidean Distance. If I had more time, I'd research other distance metrics and implement them in the algorithm."
   ]
  },
  {
   "cell_type": "markdown",
   "id": "af1acec2-d810-4d56-821b-6b6749f8784b",
   "metadata": {},
   "source": [
    "## Bibliography\n",
    "\n",
    "https://medium.com/swlh/k-nearest-neighbor-ca2593d7a3c4\n",
    "\n",
    "https://www.ibm.com/think/topics/knn\n",
    "\n",
    "https://www.geeksforgeeks.org/k-nearest-neighbours/\n",
    "\n",
    "https://numpy.org/doc/stable/reference/routines.html"
   ]
  }
 ],
 "metadata": {
  "kernelspec": {
   "display_name": "Python 3 (ipykernel)",
   "language": "python",
   "name": "python3"
  },
  "language_info": {
   "codemirror_mode": {
    "name": "ipython",
    "version": 3
   },
   "file_extension": ".py",
   "mimetype": "text/x-python",
   "name": "python",
   "nbconvert_exporter": "python",
   "pygments_lexer": "ipython3",
   "version": "3.12.7"
  }
 },
 "nbformat": 4,
 "nbformat_minor": 5
}
